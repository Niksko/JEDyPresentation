{
 "metadata": {
  "language": "Julia",
  "name": "",
  "signature": "sha256:8de46ea26cd3c4904fea857b7c2664b4fa9a13bc6d2487dfd860fff216345168"
 },
 "nbformat": 3,
 "nbformat_minor": 0,
 "worksheets": [
  {
   "cells": [
    {
     "cell_type": "heading",
     "level": 1,
     "metadata": {},
     "source": [
      "JEDy: Julia for Evolutionary Dynamics"
     ]
    },
    {
     "cell_type": "heading",
     "level": 6,
     "metadata": {},
     "source": [
      "Authors: Jesse Duffield, Nikolas Skoufis, Supervisor: Juli\u00e1n Garc\u00eda"
     ]
    },
    {
     "cell_type": "heading",
     "level": 2,
     "metadata": {},
     "source": [
      "Julia: An introduction"
     ]
    },
    {
     "cell_type": "heading",
     "level": 2,
     "metadata": {},
     "source": [
      "Introduction to evolutionary dynamics and game theory"
     ]
    },
    {
     "cell_type": "heading",
     "level": 2,
     "metadata": {},
     "source": [
      "JEDy"
     ]
    }
   ],
   "metadata": {}
  }
 ]
}