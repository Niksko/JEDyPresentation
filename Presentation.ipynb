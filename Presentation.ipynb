{
 "metadata": {
  "language": "Julia",
  "name": "",
  "signature": "sha256:8ba68286288185739684118008e93e6500aa650140b137781a692bd05e7160cb"
 },
 "nbformat": 3,
 "nbformat_minor": 0,
 "worksheets": [
  {
   "cells": [
    {
     "cell_type": "heading",
     "level": 1,
     "metadata": {},
     "source": [
      "JEDy: Julia for Evolutionary Dynamics"
     ]
    },
    {
     "cell_type": "heading",
     "level": 6,
     "metadata": {},
     "source": [
      "Authors: Jesse Duffield, Nikolas Skoufis, Supervisor: Juli\u00e1n Garc\u00eda"
     ]
    },
    {
     "cell_type": "heading",
     "level": 2,
     "metadata": {},
     "source": [
      "Julia: An introduction"
     ]
    },
    {
     "cell_type": "heading",
     "level": 2,
     "metadata": {},
     "source": [
      "Introduction to evolutionary dynamics and game theory"
     ]
    },
    {
     "cell_type": "heading",
     "level": 2,
     "metadata": {},
     "source": [
      "JEDy"
     ]
    },
    {
     "cell_type": "heading",
     "level": 3,
     "metadata": {},
     "source": [
      "Infinite populations"
     ]
    },
    {
     "cell_type": "heading",
     "level": 3,
     "metadata": {},
     "source": [
      "Finite populations"
     ]
    }
   ],
   "metadata": {}
  }
 ]
}